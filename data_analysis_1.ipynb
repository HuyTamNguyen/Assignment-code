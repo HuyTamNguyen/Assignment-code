{
 "cells": [
  {
   "cell_type": "code",
   "execution_count": 1,
   "metadata": {},
   "outputs": [],
   "source": [
    "import pandas as pd\n",
    "from datetime import datetime\n",
    "import matplotlib.pyplot as plt"
   ]
  },
  {
   "cell_type": "code",
   "execution_count": 2,
   "metadata": {},
   "outputs": [
    {
     "data": {
      "text/html": [
       "<div>\n",
       "<style scoped>\n",
       "    .dataframe tbody tr th:only-of-type {\n",
       "        vertical-align: middle;\n",
       "    }\n",
       "\n",
       "    .dataframe tbody tr th {\n",
       "        vertical-align: top;\n",
       "    }\n",
       "\n",
       "    .dataframe thead th {\n",
       "        text-align: right;\n",
       "    }\n",
       "</style>\n",
       "<table border=\"1\" class=\"dataframe\">\n",
       "  <thead>\n",
       "    <tr style=\"text-align: right;\">\n",
       "      <th></th>\n",
       "      <th>time</th>\n",
       "      <th>FromInternetTCPPort443IPurn:ietf:params:mud:controllerByteCount</th>\n",
       "      <th>FromInternetTCPPort443IPurn:ietf:params:mud:controllerPacketCount</th>\n",
       "      <th>FromInternetTCPPort554IPurn:ietf:params:mud:controllerByteCount</th>\n",
       "      <th>FromInternetTCPPort554IPurn:ietf:params:mud:controllerPacketCount</th>\n",
       "      <th>FromInternetTCPPort80IPurn:ietf:params:mud:controllerByteCount</th>\n",
       "      <th>FromInternetTCPPort80IPurn:ietf:params:mud:controllerPacketCount</th>\n",
       "      <th>FromInternetUDPPort67IPurn:ietf:params:mud:controllerByteCount</th>\n",
       "      <th>FromInternetUDPPort67IPurn:ietf:params:mud:controllerPacketCount</th>\n",
       "      <th>ToInternetRSVPPortAllIPurn:ietf:params:mud:controllerByteCount</th>\n",
       "      <th>...</th>\n",
       "      <th>ToInternetTCPPort554IPurn:ietf:params:mud:controllerPacketCount</th>\n",
       "      <th>ToInternetTCPPort80IPurn:ietf:params:mud:controllerByteCount</th>\n",
       "      <th>ToInternetTCPPort80IPurn:ietf:params:mud:controllerPacketCount</th>\n",
       "      <th>ToInternetUDPPort1024IPurn:ietf:params:mud:controllerByteCount</th>\n",
       "      <th>ToInternetUDPPort1024IPurn:ietf:params:mud:controllerPacketCount</th>\n",
       "      <th>ToLocalUDPPort5353IP224.0.0.251/32ByteCount</th>\n",
       "      <th>ToLocalUDPPort5353IP224.0.0.251/32PacketCount</th>\n",
       "      <th>ToLocalUDPPort67IP255.255.255.255/32ByteCount</th>\n",
       "      <th>ToLocalUDPPort67IP255.255.255.255/32PacketCount</th>\n",
       "      <th>device_mac</th>\n",
       "    </tr>\n",
       "  </thead>\n",
       "  <tbody>\n",
       "    <tr>\n",
       "      <th>0</th>\n",
       "      <td>1662078299417000000</td>\n",
       "      <td>0</td>\n",
       "      <td>0</td>\n",
       "      <td>0</td>\n",
       "      <td>0</td>\n",
       "      <td>0</td>\n",
       "      <td>0</td>\n",
       "      <td>0</td>\n",
       "      <td>0</td>\n",
       "      <td>3568</td>\n",
       "      <td>...</td>\n",
       "      <td>0</td>\n",
       "      <td>395738</td>\n",
       "      <td>957</td>\n",
       "      <td>12625992</td>\n",
       "      <td>9093</td>\n",
       "      <td>0</td>\n",
       "      <td>0</td>\n",
       "      <td>0</td>\n",
       "      <td>0</td>\n",
       "      <td>bd:0d:8e:c5</td>\n",
       "    </tr>\n",
       "    <tr>\n",
       "      <th>1</th>\n",
       "      <td>1662078299417000000</td>\n",
       "      <td>0</td>\n",
       "      <td>0</td>\n",
       "      <td>0</td>\n",
       "      <td>0</td>\n",
       "      <td>71161</td>\n",
       "      <td>266</td>\n",
       "      <td>0</td>\n",
       "      <td>0</td>\n",
       "      <td>1784</td>\n",
       "      <td>...</td>\n",
       "      <td>11246</td>\n",
       "      <td>68385</td>\n",
       "      <td>150</td>\n",
       "      <td>0</td>\n",
       "      <td>0</td>\n",
       "      <td>0</td>\n",
       "      <td>0</td>\n",
       "      <td>0</td>\n",
       "      <td>0</td>\n",
       "      <td>bd:24:bb:1e</td>\n",
       "    </tr>\n",
       "    <tr>\n",
       "      <th>2</th>\n",
       "      <td>1662078299417000000</td>\n",
       "      <td>0</td>\n",
       "      <td>0</td>\n",
       "      <td>0</td>\n",
       "      <td>0</td>\n",
       "      <td>25880</td>\n",
       "      <td>91</td>\n",
       "      <td>0</td>\n",
       "      <td>0</td>\n",
       "      <td>3568</td>\n",
       "      <td>...</td>\n",
       "      <td>0</td>\n",
       "      <td>103786</td>\n",
       "      <td>243</td>\n",
       "      <td>0</td>\n",
       "      <td>0</td>\n",
       "      <td>0</td>\n",
       "      <td>0</td>\n",
       "      <td>0</td>\n",
       "      <td>0</td>\n",
       "      <td>bd:0d:af:0b</td>\n",
       "    </tr>\n",
       "    <tr>\n",
       "      <th>3</th>\n",
       "      <td>1662078299417000000</td>\n",
       "      <td>0</td>\n",
       "      <td>0</td>\n",
       "      <td>0</td>\n",
       "      <td>0</td>\n",
       "      <td>0</td>\n",
       "      <td>0</td>\n",
       "      <td>0</td>\n",
       "      <td>0</td>\n",
       "      <td>3568</td>\n",
       "      <td>...</td>\n",
       "      <td>0</td>\n",
       "      <td>29638</td>\n",
       "      <td>81</td>\n",
       "      <td>0</td>\n",
       "      <td>0</td>\n",
       "      <td>0</td>\n",
       "      <td>0</td>\n",
       "      <td>0</td>\n",
       "      <td>0</td>\n",
       "      <td>ee:dd:34:1d</td>\n",
       "    </tr>\n",
       "    <tr>\n",
       "      <th>4</th>\n",
       "      <td>1662078299417000000</td>\n",
       "      <td>0</td>\n",
       "      <td>0</td>\n",
       "      <td>0</td>\n",
       "      <td>0</td>\n",
       "      <td>0</td>\n",
       "      <td>0</td>\n",
       "      <td>1400</td>\n",
       "      <td>4</td>\n",
       "      <td>1784</td>\n",
       "      <td>...</td>\n",
       "      <td>9857</td>\n",
       "      <td>0</td>\n",
       "      <td>0</td>\n",
       "      <td>0</td>\n",
       "      <td>0</td>\n",
       "      <td>0</td>\n",
       "      <td>0</td>\n",
       "      <td>906</td>\n",
       "      <td>2</td>\n",
       "      <td>ee:dd:39:08</td>\n",
       "    </tr>\n",
       "  </tbody>\n",
       "</table>\n",
       "<p>5 rows × 24 columns</p>\n",
       "</div>"
      ],
      "text/plain": [
       "                  time  \\\n",
       "0  1662078299417000000   \n",
       "1  1662078299417000000   \n",
       "2  1662078299417000000   \n",
       "3  1662078299417000000   \n",
       "4  1662078299417000000   \n",
       "\n",
       "   FromInternetTCPPort443IPurn:ietf:params:mud:controllerByteCount  \\\n",
       "0                                                  0                 \n",
       "1                                                  0                 \n",
       "2                                                  0                 \n",
       "3                                                  0                 \n",
       "4                                                  0                 \n",
       "\n",
       "   FromInternetTCPPort443IPurn:ietf:params:mud:controllerPacketCount  \\\n",
       "0                                                  0                   \n",
       "1                                                  0                   \n",
       "2                                                  0                   \n",
       "3                                                  0                   \n",
       "4                                                  0                   \n",
       "\n",
       "   FromInternetTCPPort554IPurn:ietf:params:mud:controllerByteCount  \\\n",
       "0                                                  0                 \n",
       "1                                                  0                 \n",
       "2                                                  0                 \n",
       "3                                                  0                 \n",
       "4                                                  0                 \n",
       "\n",
       "   FromInternetTCPPort554IPurn:ietf:params:mud:controllerPacketCount  \\\n",
       "0                                                  0                   \n",
       "1                                                  0                   \n",
       "2                                                  0                   \n",
       "3                                                  0                   \n",
       "4                                                  0                   \n",
       "\n",
       "   FromInternetTCPPort80IPurn:ietf:params:mud:controllerByteCount  \\\n",
       "0                                                  0                \n",
       "1                                              71161                \n",
       "2                                              25880                \n",
       "3                                                  0                \n",
       "4                                                  0                \n",
       "\n",
       "   FromInternetTCPPort80IPurn:ietf:params:mud:controllerPacketCount  \\\n",
       "0                                                  0                  \n",
       "1                                                266                  \n",
       "2                                                 91                  \n",
       "3                                                  0                  \n",
       "4                                                  0                  \n",
       "\n",
       "   FromInternetUDPPort67IPurn:ietf:params:mud:controllerByteCount  \\\n",
       "0                                                  0                \n",
       "1                                                  0                \n",
       "2                                                  0                \n",
       "3                                                  0                \n",
       "4                                               1400                \n",
       "\n",
       "   FromInternetUDPPort67IPurn:ietf:params:mud:controllerPacketCount  \\\n",
       "0                                                  0                  \n",
       "1                                                  0                  \n",
       "2                                                  0                  \n",
       "3                                                  0                  \n",
       "4                                                  4                  \n",
       "\n",
       "   ToInternetRSVPPortAllIPurn:ietf:params:mud:controllerByteCount  ...  \\\n",
       "0                                               3568               ...   \n",
       "1                                               1784               ...   \n",
       "2                                               3568               ...   \n",
       "3                                               3568               ...   \n",
       "4                                               1784               ...   \n",
       "\n",
       "   ToInternetTCPPort554IPurn:ietf:params:mud:controllerPacketCount  \\\n",
       "0                                                  0                 \n",
       "1                                              11246                 \n",
       "2                                                  0                 \n",
       "3                                                  0                 \n",
       "4                                               9857                 \n",
       "\n",
       "   ToInternetTCPPort80IPurn:ietf:params:mud:controllerByteCount  \\\n",
       "0                                             395738              \n",
       "1                                              68385              \n",
       "2                                             103786              \n",
       "3                                              29638              \n",
       "4                                                  0              \n",
       "\n",
       "   ToInternetTCPPort80IPurn:ietf:params:mud:controllerPacketCount  \\\n",
       "0                                                957                \n",
       "1                                                150                \n",
       "2                                                243                \n",
       "3                                                 81                \n",
       "4                                                  0                \n",
       "\n",
       "   ToInternetUDPPort1024IPurn:ietf:params:mud:controllerByteCount  \\\n",
       "0                                           12625992                \n",
       "1                                                  0                \n",
       "2                                                  0                \n",
       "3                                                  0                \n",
       "4                                                  0                \n",
       "\n",
       "   ToInternetUDPPort1024IPurn:ietf:params:mud:controllerPacketCount  \\\n",
       "0                                               9093                  \n",
       "1                                                  0                  \n",
       "2                                                  0                  \n",
       "3                                                  0                  \n",
       "4                                                  0                  \n",
       "\n",
       "   ToLocalUDPPort5353IP224.0.0.251/32ByteCount  \\\n",
       "0                                            0   \n",
       "1                                            0   \n",
       "2                                            0   \n",
       "3                                            0   \n",
       "4                                            0   \n",
       "\n",
       "   ToLocalUDPPort5353IP224.0.0.251/32PacketCount  \\\n",
       "0                                              0   \n",
       "1                                              0   \n",
       "2                                              0   \n",
       "3                                              0   \n",
       "4                                              0   \n",
       "\n",
       "   ToLocalUDPPort67IP255.255.255.255/32ByteCount  \\\n",
       "0                                              0   \n",
       "1                                              0   \n",
       "2                                              0   \n",
       "3                                              0   \n",
       "4                                            906   \n",
       "\n",
       "   ToLocalUDPPort67IP255.255.255.255/32PacketCount   device_mac  \n",
       "0                                                0  bd:0d:8e:c5  \n",
       "1                                                0  bd:24:bb:1e  \n",
       "2                                                0  bd:0d:af:0b  \n",
       "3                                                0  ee:dd:34:1d  \n",
       "4                                                2  ee:dd:39:08  \n",
       "\n",
       "[5 rows x 24 columns]"
      ]
     },
     "execution_count": 2,
     "metadata": {},
     "output_type": "execute_result"
    }
   ],
   "source": [
    "df = pd.read_csv(\"C:\\\\Users\\\\Kevin\\\\Desktop\\\\Data3001\\datascience-cis-2022.csv\")\n",
    "df.head(5)"
   ]
  },
  {
   "cell_type": "code",
   "execution_count": 4,
   "metadata": {},
   "outputs": [
    {
     "data": {
      "text/plain": [
       "134913"
      ]
     },
     "execution_count": 4,
     "metadata": {},
     "output_type": "execute_result"
    }
   ],
   "source": [
    "df['time'].nunique()"
   ]
  },
  {
   "cell_type": "code",
   "execution_count": 5,
   "metadata": {
    "scrolled": false
   },
   "outputs": [
    {
     "name": "stdout",
     "output_type": "stream",
     "text": [
      "753\n"
     ]
    },
    {
     "data": {
      "text/plain": [
       "time                                                                 0\n",
       "FromInternetTCPPort443IPurn:ietf:params:mud:controllerByteCount      0\n",
       "FromInternetTCPPort443IPurn:ietf:params:mud:controllerPacketCount    0\n",
       "FromInternetTCPPort554IPurn:ietf:params:mud:controllerByteCount      0\n",
       "FromInternetTCPPort554IPurn:ietf:params:mud:controllerPacketCount    0\n",
       "FromInternetTCPPort80IPurn:ietf:params:mud:controllerByteCount       0\n",
       "FromInternetTCPPort80IPurn:ietf:params:mud:controllerPacketCount     0\n",
       "FromInternetUDPPort67IPurn:ietf:params:mud:controllerByteCount       0\n",
       "FromInternetUDPPort67IPurn:ietf:params:mud:controllerPacketCount     0\n",
       "ToInternetRSVPPortAllIPurn:ietf:params:mud:controllerByteCount       0\n",
       "ToInternetRSVPPortAllIPurn:ietf:params:mud:controllerPacketCount     0\n",
       "ToInternetTCPPort443IPurn:ietf:params:mud:controllerByteCount        0\n",
       "ToInternetTCPPort443IPurn:ietf:params:mud:controllerPacketCount      0\n",
       "ToInternetTCPPort554IPurn:ietf:params:mud:controllerByteCount        0\n",
       "ToInternetTCPPort554IPurn:ietf:params:mud:controllerPacketCount      0\n",
       "ToInternetTCPPort80IPurn:ietf:params:mud:controllerByteCount         0\n",
       "ToInternetTCPPort80IPurn:ietf:params:mud:controllerPacketCount       0\n",
       "ToInternetUDPPort1024IPurn:ietf:params:mud:controllerByteCount       0\n",
       "ToInternetUDPPort1024IPurn:ietf:params:mud:controllerPacketCount     0\n",
       "ToLocalUDPPort5353IP224.0.0.251/32ByteCount                          0\n",
       "ToLocalUDPPort5353IP224.0.0.251/32PacketCount                        0\n",
       "ToLocalUDPPort67IP255.255.255.255/32ByteCount                        0\n",
       "ToLocalUDPPort67IP255.255.255.255/32PacketCount                      0\n",
       "device_mac                                                           0\n",
       "dtype: int64"
      ]
     },
     "execution_count": 5,
     "metadata": {},
     "output_type": "execute_result"
    }
   ],
   "source": [
    "print(len(df['device_mac'].unique()))\n",
    "df.isnull().sum()"
   ]
  },
  {
   "cell_type": "code",
   "execution_count": 8,
   "metadata": {},
   "outputs": [
    {
     "data": {
      "text/plain": [
       "(0, 24)"
      ]
     },
     "execution_count": 8,
     "metadata": {},
     "output_type": "execute_result"
    }
   ],
   "source": [
    "duplicate = df[df.duplicated[keep='last']]\n",
    "duplicate.shape"
   ]
  },
  {
   "cell_type": "code",
   "execution_count": 14,
   "metadata": {},
   "outputs": [
    {
     "data": {
      "text/plain": [
       "0    1662078299417000000\n",
       "1    1662078299417000000\n",
       "2    1662078299417000000\n",
       "3    1662078299417000000\n",
       "4    1662078299417000000\n",
       "Name: time, dtype: int64"
      ]
     },
     "execution_count": 14,
     "metadata": {},
     "output_type": "execute_result"
    }
   ],
   "source": [
    "df['time'].head(5)"
   ]
  },
  {
   "cell_type": "code",
   "execution_count": 3,
   "metadata": {},
   "outputs": [
    {
     "data": {
      "text/plain": [
       "<bound method NDFrame.head of 0          2022-09-02 00:24:59.417\n",
       "1          2022-09-02 00:24:59.417\n",
       "2          2022-09-02 00:24:59.417\n",
       "3          2022-09-02 00:24:59.417\n",
       "4          2022-09-02 00:24:59.417\n",
       "                     ...          \n",
       "14376693   2022-09-16 00:23:55.620\n",
       "14376694   2022-09-16 00:23:55.620\n",
       "14376695   2022-09-16 00:23:55.620\n",
       "14376696   2022-09-16 00:23:55.620\n",
       "14376697   2022-09-16 00:23:55.620\n",
       "Name: time, Length: 14376698, dtype: datetime64[ns]>"
      ]
     },
     "execution_count": 3,
     "metadata": {},
     "output_type": "execute_result"
    }
   ],
   "source": [
    "#converting from unix time to regular\n",
    "df['time'] = pd.to_datetime(df['time'], unit='ns')\n",
    "df['time'].head"
   ]
  },
  {
   "cell_type": "code",
   "execution_count": 10,
   "metadata": {},
   "outputs": [
    {
     "name": "stdout",
     "output_type": "stream",
     "text": [
      "2022-09-02 00:24:59.417000\n",
      "2022-09-16 00:23:55.620000\n",
      "13 days 23:58:56.203000\n"
     ]
    }
   ],
   "source": [
    "# data spans a fortnite, with data being collected every minute\n",
    "print(df['time'].min())\n",
    "print(df['time'].max())\n",
    "print(df['time'].max() - df['time'].min())"
   ]
  },
  {
   "cell_type": "code",
   "execution_count": null,
   "metadata": {},
   "outputs": [],
   "source": [
    "#13 days 23:58 -> 20158 minutes, Therefore should be 20158 * 753 entries = 15178974, there are 14376697\n",
    "# either 802277 data points missing, 1065 minutes of data missing or there is a point where cameras are off"
   ]
  },
  {
   "cell_type": "code",
   "execution_count": 11,
   "metadata": {},
   "outputs": [
    {
     "data": {
      "text/html": [
       "<div>\n",
       "<style scoped>\n",
       "    .dataframe tbody tr th:only-of-type {\n",
       "        vertical-align: middle;\n",
       "    }\n",
       "\n",
       "    .dataframe tbody tr th {\n",
       "        vertical-align: top;\n",
       "    }\n",
       "\n",
       "    .dataframe thead th {\n",
       "        text-align: right;\n",
       "    }\n",
       "</style>\n",
       "<table border=\"1\" class=\"dataframe\">\n",
       "  <thead>\n",
       "    <tr style=\"text-align: right;\">\n",
       "      <th></th>\n",
       "      <th>time</th>\n",
       "      <th>ToInternetTCPPort80IPurn:ietf:params:mud:controllerByteCount</th>\n",
       "      <th>ToInternetTCPPort80IPurn:ietf:params:mud:controllerPacketCount</th>\n",
       "      <th>ToInternetUDPPort1024IPurn:ietf:params:mud:controllerByteCount</th>\n",
       "      <th>ToInternetUDPPort1024IPurn:ietf:params:mud:controllerPacketCount</th>\n",
       "      <th>device_mac</th>\n",
       "    </tr>\n",
       "  </thead>\n",
       "  <tbody>\n",
       "    <tr>\n",
       "      <th>0</th>\n",
       "      <td>2022-09-02 00:24:59.417</td>\n",
       "      <td>395738</td>\n",
       "      <td>957</td>\n",
       "      <td>12625992</td>\n",
       "      <td>9093</td>\n",
       "      <td>bd:0d:8e:c5</td>\n",
       "    </tr>\n",
       "    <tr>\n",
       "      <th>774</th>\n",
       "      <td>2022-09-02 00:25:59.386</td>\n",
       "      <td>415242</td>\n",
       "      <td>1004</td>\n",
       "      <td>12193996</td>\n",
       "      <td>8775</td>\n",
       "      <td>bd:0d:8e:c5</td>\n",
       "    </tr>\n",
       "    <tr>\n",
       "      <th>1525</th>\n",
       "      <td>2022-09-02 00:26:59.365</td>\n",
       "      <td>409825</td>\n",
       "      <td>979</td>\n",
       "      <td>12459296</td>\n",
       "      <td>8993</td>\n",
       "      <td>bd:0d:8e:c5</td>\n",
       "    </tr>\n",
       "    <tr>\n",
       "      <th>2246</th>\n",
       "      <td>2022-09-02 00:27:59.422</td>\n",
       "      <td>393513</td>\n",
       "      <td>962</td>\n",
       "      <td>12473905</td>\n",
       "      <td>9003</td>\n",
       "      <td>bd:0d:8e:c5</td>\n",
       "    </tr>\n",
       "    <tr>\n",
       "      <th>2999</th>\n",
       "      <td>2022-09-02 00:28:59.461</td>\n",
       "      <td>395554</td>\n",
       "      <td>955</td>\n",
       "      <td>12659277</td>\n",
       "      <td>9135</td>\n",
       "      <td>bd:0d:8e:c5</td>\n",
       "    </tr>\n",
       "  </tbody>\n",
       "</table>\n",
       "</div>"
      ],
      "text/plain": [
       "                        time  \\\n",
       "0    2022-09-02 00:24:59.417   \n",
       "774  2022-09-02 00:25:59.386   \n",
       "1525 2022-09-02 00:26:59.365   \n",
       "2246 2022-09-02 00:27:59.422   \n",
       "2999 2022-09-02 00:28:59.461   \n",
       "\n",
       "      ToInternetTCPPort80IPurn:ietf:params:mud:controllerByteCount  \\\n",
       "0                                                395738              \n",
       "774                                              415242              \n",
       "1525                                             409825              \n",
       "2246                                             393513              \n",
       "2999                                             395554              \n",
       "\n",
       "      ToInternetTCPPort80IPurn:ietf:params:mud:controllerPacketCount  \\\n",
       "0                                                   957                \n",
       "774                                                1004                \n",
       "1525                                                979                \n",
       "2246                                                962                \n",
       "2999                                                955                \n",
       "\n",
       "      ToInternetUDPPort1024IPurn:ietf:params:mud:controllerByteCount  \\\n",
       "0                                              12625992                \n",
       "774                                            12193996                \n",
       "1525                                           12459296                \n",
       "2246                                           12473905                \n",
       "2999                                           12659277                \n",
       "\n",
       "      ToInternetUDPPort1024IPurn:ietf:params:mud:controllerPacketCount  \\\n",
       "0                                                  9093                  \n",
       "774                                                8775                  \n",
       "1525                                               8993                  \n",
       "2246                                               9003                  \n",
       "2999                                               9135                  \n",
       "\n",
       "       device_mac  \n",
       "0     bd:0d:8e:c5  \n",
       "774   bd:0d:8e:c5  \n",
       "1525  bd:0d:8e:c5  \n",
       "2246  bd:0d:8e:c5  \n",
       "2999  bd:0d:8e:c5  "
      ]
     },
     "execution_count": 11,
     "metadata": {},
     "output_type": "execute_result"
    }
   ],
   "source": [
    "# testing with device bd:0d:8e:c5\n",
    "df_test = df[[\"time\", \"ToInternetTCPPort80IPurn:ietf:params:mud:controllerByteCount\", \n",
    "              \"ToInternetTCPPort80IPurn:ietf:params:mud:controllerPacketCount\",\n",
    "              \"ToInternetUDPPort1024IPurn:ietf:params:mud:controllerByteCount\",\n",
    "             \"ToInternetUDPPort1024IPurn:ietf:params:mud:controllerPacketCount\", \"device_mac\"]]\n",
    "test = df_test.loc[df_test[\"device_mac\"] == \"bd:0d:8e:c5\"]\n",
    "test.head(5)"
   ]
  },
  {
   "cell_type": "code",
   "execution_count": 10,
   "metadata": {},
   "outputs": [
    {
     "ename": "NameError",
     "evalue": "name 'test' is not defined",
     "output_type": "error",
     "traceback": [
      "\u001b[1;31m---------------------------------------------------------------------------\u001b[0m",
      "\u001b[1;31mNameError\u001b[0m                                 Traceback (most recent call last)",
      "\u001b[1;32m<ipython-input-10-4605e4af2d89>\u001b[0m in \u001b[0;36m<module>\u001b[1;34m\u001b[0m\n\u001b[0;32m      1\u001b[0m \u001b[1;31m# index the time data\u001b[0m\u001b[1;33m\u001b[0m\u001b[1;33m\u001b[0m\u001b[1;33m\u001b[0m\u001b[0m\n\u001b[1;32m----> 2\u001b[1;33m \u001b[0mindex\u001b[0m \u001b[1;33m=\u001b[0m \u001b[0mtest\u001b[0m\u001b[1;33m.\u001b[0m\u001b[0mpivot\u001b[0m\u001b[1;33m(\u001b[0m\u001b[0mindex\u001b[0m\u001b[1;33m=\u001b[0m\u001b[1;34m'time'\u001b[0m\u001b[1;33m,\u001b[0m \u001b[0mcolumns\u001b[0m\u001b[1;33m=\u001b[0m\u001b[1;34m'device_mac'\u001b[0m\u001b[1;33m)\u001b[0m\u001b[1;33m\u001b[0m\u001b[1;33m\u001b[0m\u001b[0m\n\u001b[0m\u001b[0;32m      3\u001b[0m \u001b[0mindex\u001b[0m\u001b[1;33m.\u001b[0m\u001b[0mhead\u001b[0m\u001b[1;33m(\u001b[0m\u001b[1;33m)\u001b[0m\u001b[1;33m\u001b[0m\u001b[1;33m\u001b[0m\u001b[0m\n",
      "\u001b[1;31mNameError\u001b[0m: name 'test' is not defined"
     ]
    }
   ],
   "source": [
    "# index the time data\n",
    "index = test.pivot(index='time', columns='device_mac')\n",
    "index.head()"
   ]
  },
  {
   "cell_type": "code",
   "execution_count": 33,
   "metadata": {
    "scrolled": true
   },
   "outputs": [
    {
     "data": {
      "text/plain": [
       "<matplotlib.legend.Legend at 0x1f585c34580>"
      ]
     },
     "execution_count": 33,
     "metadata": {},
     "output_type": "execute_result"
    },
    {
     "data": {
      "image/png": "[encoded data removed]",
      "text/plain": [
       "<Figure size 432x288 with 1 Axes>"
      ]
     },
     "metadata": {
      "needs_background": "light"
     },
     "output_type": "display_data"
    }
   ],
   "source": [
    "\n",
    "index['2022-09-02 00:30:00':'2022-09-03 00:30:00'].plot()\n",
    "plt.legend(fontsize=10)"
   ]
  },
  {
   "cell_type": "code",
   "execution_count": 2,
   "metadata": {},
   "outputs": [
    {
     "ename": "NameError",
     "evalue": "name 'plt' is not defined",
     "output_type": "error",
     "traceback": [
      "\u001b[1;31m---------------------------------------------------------------------------\u001b[0m",
      "\u001b[1;31mNameError\u001b[0m                                 Traceback (most recent call last)",
      "\u001b[1;32m<ipython-input-2-2b547a7fd101>\u001b[0m in \u001b[0;36m<module>\u001b[1;34m\u001b[0m\n\u001b[0;32m      1\u001b[0m \u001b[1;31m# plot for 80, do time series for minute - to day or hour, plot on top of each other look at correlation\u001b[0m\u001b[1;33m\u001b[0m\u001b[1;33m\u001b[0m\u001b[1;33m\u001b[0m\u001b[0m\n\u001b[1;32m----> 2\u001b[1;33m \u001b[0mplt\u001b[0m\u001b[1;33m.\u001b[0m\u001b[0mfigure\u001b[0m\u001b[1;33m(\u001b[0m\u001b[1;36m1\u001b[0m\u001b[1;33m)\u001b[0m\u001b[1;33m\u001b[0m\u001b[1;33m\u001b[0m\u001b[0m\n\u001b[0m\u001b[0;32m      3\u001b[0m \u001b[0mplt\u001b[0m\u001b[1;33m.\u001b[0m\u001b[0mplot\u001b[0m\u001b[1;33m(\u001b[0m\u001b[0mtest\u001b[0m\u001b[1;33m.\u001b[0m\u001b[0mtime\u001b[0m\u001b[1;33m,\u001b[0m \u001b[0mtest\u001b[0m\u001b[1;33m[\u001b[0m\u001b[1;34m\"ToInternetTCPPort80IPurn:ietf:params:mud:controllerByteCount\"\u001b[0m\u001b[1;33m]\u001b[0m\u001b[1;33m,\u001b[0m \u001b[0mlabel\u001b[0m\u001b[1;33m=\u001b[0m\u001b[1;34m'80_ByteCount'\u001b[0m\u001b[1;33m,\u001b[0m \u001b[0mmarker\u001b[0m\u001b[1;33m=\u001b[0m\u001b[1;34m'o'\u001b[0m\u001b[1;33m)\u001b[0m\u001b[1;33m\u001b[0m\u001b[1;33m\u001b[0m\u001b[0m\n\u001b[0;32m      4\u001b[0m \u001b[1;33m\u001b[0m\u001b[0m\n\u001b[0;32m      5\u001b[0m \u001b[0mplt\u001b[0m\u001b[1;33m.\u001b[0m\u001b[0mtitle\u001b[0m\u001b[1;33m(\u001b[0m\u001b[1;34m\"ts Tointernet80 Byte for device bd:0d:8e:c5\"\u001b[0m\u001b[1;33m)\u001b[0m\u001b[1;33m\u001b[0m\u001b[1;33m\u001b[0m\u001b[0m\n",
      "\u001b[1;31mNameError\u001b[0m: name 'plt' is not defined"
     ]
    }
   ],
   "source": [
    "# plot for 80, do time series for minute - to day or hour, plot on top of each other look at correlation\n",
    "plt.figure(1)\n",
    "plt.plot(test.time, test[\"ToInternetTCPPort80IPurn:ietf:params:mud:controllerByteCount\"], label='80_ByteCount', marker='o')\n",
    "\n",
    "plt.title(\"ts Tointernet80 Byte for device bd:0d:8e:c5\")\n",
    "plt.xlabel(\"Time\")\n",
    "plt.ylabel(\"Value\")\n",
    "\n",
    "plt.figure(2)\n",
    "plt.plot(test.time, test[\"ToInternetTCPPort80IPurn:ietf:params:mud:controllerPacketCount\"], label='80_PacketCount', marker='o')\n",
    "plt.title(\"ts Tointernet80 Packet for device bd:0d:8e:c5\")\n",
    "plt.xlabel(\"time\")\n",
    "plt.ylabel(\"value\")"
   ]
  },
  {
   "cell_type": "code",
   "execution_count": 1,
   "metadata": {},
   "outputs": [
    {
     "ename": "SyntaxError",
     "evalue": "invalid syntax (<ipython-input-1-5d8ac39c7b86>, line 2)",
     "output_type": "error",
     "traceback": [
      "\u001b[1;36m  File \u001b[1;32m\"<ipython-input-1-5d8ac39c7b86>\"\u001b[1;36m, line \u001b[1;32m2\u001b[0m\n\u001b[1;33m    plt.plot(test.time, test.ToInternetTCPPort80IPurn:ietf:params:mud:controllerPacketCount, label='80_PacketCount', linewidth=3)\u001b[0m\n\u001b[1;37m                                                     ^\u001b[0m\n\u001b[1;31mSyntaxError\u001b[0m\u001b[1;31m:\u001b[0m invalid syntax\n"
     ]
    }
   ],
   "source": [
    "#plot packet for 80 and 1024\n",
    "plt.plot(test.time, test.ToInternetTCPPort80IPurn:ietf:params:mud:controllerPacketCount, label='80_PacketCount', linewidth=3)\n",
    "plt.plot(test.time, test.ToInternetUDPPort1024IPurn:ietf:params:mud:controllerPacketCount, label='1024_PacketCount', linewidth=3)"
   ]
  },
  {
   "cell_type": "code",
   "execution_count": null,
   "metadata": {},
   "outputs": [],
   "source": [
    "display(df.to_string())"
   ]
  },
  {
   "cell_type": "code",
   "execution_count": null,
   "metadata": {},
   "outputs": [],
   "source": []
  }
 ],
 "metadata": {
  "kernelspec": {
   "display_name": "Python 3 (ipykernel)",
   "language": "python",
   "name": "python3"
  },
  "language_info": {
   "codemirror_mode": {
    "name": "ipython",
    "version": 3
   },
   "file_extension": ".py",
   "mimetype": "text/x-python",
   "name": "python",
   "nbconvert_exporter": "python",
   "pygments_lexer": "ipython3",
   "version": "3.8.5"
  }
 },
 "nbformat": 4,
 "nbformat_minor": 4
}
